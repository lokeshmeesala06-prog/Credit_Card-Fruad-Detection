{
  "nbformat": 4,
  "nbformat_minor": 0,
  "metadata": {
    "colab": {
      "provenance": []
    },
    "kernelspec": {
      "name": "python3",
      "display_name": "Python 3"
    },
    "language_info": {
      "name": "python"
    }
  },
  "cells": [
    {
      "cell_type": "code",
      "source": [
        "import pandas as pd\n",
        "import numpy as np\n",
        "from sklearn.model_selection import train_test_split\n",
        "from sklearn.preprocessing import StandardScaler\n",
        "from sklearn.linear_model import LogisticRegression\n",
        "\n",
        "# 1. Load dataset\n",
        "credit_card_data = pd.read_csv(\"/content/creditcard.csv\")\n",
        "\n",
        "# Drop rows with NaN in 'Class' column\n",
        "credit_card_data.dropna(subset=['Class'], inplace=True)\n",
        "\n",
        "# 2. Select only 'Amount' and 'Time' as features\n",
        "X = credit_card_data[['Amount', 'Time']]\n",
        "y = credit_card_data['Class']  # 0 = normal, 1 = fraud\n",
        "\n",
        "# 3. Scale features for better model performance\n",
        "scaler = StandardScaler()\n",
        "X_scaled = scaler.fit_transform(X)\n",
        "\n",
        "# 4. Train/test split (keep original distribution)\n",
        "X_train, X_test, y_train, y_test = train_test_split(\n",
        "    X_scaled, y, test_size=0.2, random_state=42, stratify=y\n",
        ")\n",
        "\n",
        "# 5. Train model with class balancing\n",
        "model = LogisticRegression(class_weight=\"balanced\", max_iter=1000)\n",
        "model.fit(X_train, y_train)\n",
        "\n",
        "print(\"✅ Model trained successfully!\")\n",
        "\n",
        "# 6. Real-time prediction function\n",
        "def predict_transaction():\n",
        "    print(\"\\n=== Credit Card Fraud Detection (Quick Input) ===\")\n",
        "    try:\n",
        "        amount = float(input(\"Enter Transaction Amount: \"))\n",
        "        time = float(input(\"Enter Transaction Time (in seconds): \"))\n",
        "\n",
        "        # Put user data into a DataFrame with correct column names\n",
        "        user_data = pd.DataFrame([[amount, time]], columns=['Amount', 'Time'])\n",
        "\n",
        "        # Scale using the same scaler\n",
        "        user_data_scaled = scaler.transform(user_data)\n",
        "\n",
        "        # Predict probability\n",
        "        prob = model.predict_proba(user_data_scaled)[0][1]\n",
        "        threshold = 0.8  # Adjustable fraud detection sensitivity\n",
        "\n",
        "        if prob > threshold:\n",
        "            print(f\"⚠️ Transaction is FRAUDULENT! (Probability: {prob:.2f})\")\n",
        "        else:\n",
        "            print(f\"✅ Transaction is NORMAL. (Probability of fraud: {prob:.2f})\")\n",
        "\n",
        "    except ValueError:\n",
        "        print(\"❌ Invalid input. Please enter numeric values only.\")\n",
        "\n",
        "# 7. Run prediction\n",
        "predict_transaction()"
      ],
      "metadata": {
        "colab": {
          "base_uri": "https://localhost:8080/"
        },
        "id": "C-MCuNzbK7ww",
        "outputId": "5c632dc7-ad25-4780-82d1-7b74d9808447"
      },
      "execution_count": 32,
      "outputs": [
        {
          "output_type": "stream",
          "name": "stdout",
          "text": [
            "✅ Model trained successfully!\n",
            "\n",
            "=== Credit Card Fraud Detection (Quick Input) ===\n",
            "Enter Transaction Amount: 200000\n",
            "Enter Transaction Time (in seconds): 28\n",
            "✅ Transaction is NORMAL. (Probability of fraud: 0.64)\n"
          ]
        }
      ]
    },
    {
      "cell_type": "code",
      "source": [],
      "metadata": {
        "id": "lqfqDn-JLnk0"
      },
      "execution_count": null,
      "outputs": []
    }
  ]
}